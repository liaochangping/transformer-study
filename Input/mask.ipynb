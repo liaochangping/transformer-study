{
 "cells": [
  {
   "cell_type": "markdown",
   "id": "2d874225-83c8-4a9d-b2fd-1dcd94f0ea09",
   "metadata": {},
   "source": [
    "### 掩码是什么？\n",
    "通俗来说就是掩藏的编码，具体来说就是隐藏某些编码。结合嵌入向量来说，就是隐藏向量中某些位置，从而让这些位置相对其他部分来说不可见。\n",
    "在Transformer模型中，掩码操作是指通过将某些位置的信息设置为不可见或隐藏，以便在自注意力机制（self-attention）中限制模型的信息访问。这是在处理序列数据时非常有用的，特别是在处理文本时，以确保模型只关注当前位置以及之前的位置，而不会“未来泄漏”的信息。\n",
    "\n",
    "掩码通常以二进制掩码的形式出现，其中1表示位置是可见的，0表示位置是不可见的。这种方式可以帮助模型更好地理解文本中的顺序和上下文信息，而不受到未来位置的影响\n",
    "\n",
    "### 为什么要掩码？\n",
    "#### 梯度计算和反向传播：\n",
    "在训练深度学习模型时，我们依赖于梯度下降算法来优化模型的权重和超参数。掩码允许我们在预测一部分数据的同时，将其他部分数据隐藏，然后比对预测结果与实际值。这样，模型可以计算梯度并根据梯度调整权重，以便更好地拟合数据。\n",
    "#### 避免信息泄漏：\n",
    "在基于文本的预测任务中，隐藏后面部分的内容可以防止模型直接“看到”未来信息，从而强制模型根据前面的文本预测后面的内容。这有助于模型更好地理解上下文和序列信息，而不受未来信息的干扰。\n",
    "##### 序列建模：\n",
    "掩码在序列数据中尤为重要，因为在自然语言处理中，文本通常是按顺序出现的。通过逐步预测和比对，模型可以学会捕捉文本中的语境和关系，逐步构建文本的表示。\n",
    "\n",
    "总之，掩码是一种有效的训练技巧，它允许模型逐步构建对序列数据的理解，避免信息泄漏，帮助模型更好地处理自然语言文本等序列数据，从而提高模型性能。\n",
    "\n"
   ]
  },
  {
   "cell_type": "markdown",
   "id": "60a24923-1f13-41f6-9f96-7a68d2726aef",
   "metadata": {},
   "source": [
    "### 如果构建一个掩码张量？"
   ]
  },
  {
   "cell_type": "code",
   "execution_count": 1,
   "id": "f7109600-8480-4a99-afb0-a233c813529a",
   "metadata": {},
   "outputs": [
    {
     "name": "stdout",
     "output_type": "stream",
     "text": [
      "Looking in indexes: https://pypi.tuna.tsinghua.edu.cn/simple\n",
      "Requirement already satisfied: PyTouch in /usr/local/lib/python3.11/site-packages (0.4.0)\n",
      "\u001b[33mWARNING: Retrying (Retry(total=4, connect=None, read=None, redirect=None, status=None)) after connection broken by 'NewConnectionError('<pip._vendor.urllib3.connection.HTTPSConnection object at 0x108979e90>: Failed to establish a new connection: [Errno 8] nodename nor servname provided, or not known')': /simple/pytouch/\u001b[0m\u001b[33m\n",
      "\u001b[0m\u001b[33mWARNING: Retrying (Retry(total=3, connect=None, read=None, redirect=None, status=None)) after connection broken by 'NewConnectionError('<pip._vendor.urllib3.connection.HTTPSConnection object at 0x109bcfd50>: Failed to establish a new connection: [Errno 8] nodename nor servname provided, or not known')': /simple/pytouch/\u001b[0m\u001b[33m\n",
      "\u001b[0m\u001b[33mWARNING: Retrying (Retry(total=2, connect=None, read=None, redirect=None, status=None)) after connection broken by 'NewConnectionError('<pip._vendor.urllib3.connection.HTTPSConnection object at 0x109bcd650>: Failed to establish a new connection: [Errno 8] nodename nor servname provided, or not known')': /simple/pytouch/\u001b[0m\u001b[33m\n",
      "\u001b[0m\u001b[33mWARNING: Retrying (Retry(total=1, connect=None, read=None, redirect=None, status=None)) after connection broken by 'NewConnectionError('<pip._vendor.urllib3.connection.HTTPSConnection object at 0x109bcec10>: Failed to establish a new connection: [Errno 8] nodename nor servname provided, or not known')': /simple/pytouch/\u001b[0m\u001b[33m\n",
      "\u001b[0m\u001b[33mWARNING: Retrying (Retry(total=0, connect=None, read=None, redirect=None, status=None)) after connection broken by 'NewConnectionError('<pip._vendor.urllib3.connection.HTTPSConnection object at 0x109bcf390>: Failed to establish a new connection: [Errno 8] nodename nor servname provided, or not known')': /simple/pytouch/\u001b[0m\u001b[33m\n",
      "\u001b[0mRequirement already satisfied: black in /usr/local/lib/python3.11/site-packages (from PyTouch) (23.9.1)\n",
      "Requirement already satisfied: flake8 in /usr/local/lib/python3.11/site-packages (from PyTouch) (6.1.0)\n",
      "Requirement already satisfied: flake8-copyright in /usr/local/lib/python3.11/site-packages (from PyTouch) (0.2.4)\n",
      "Requirement already satisfied: isort in /usr/local/lib/python3.11/site-packages (from PyTouch) (5.12.0)\n",
      "Requirement already satisfied: matplotlib>=3.2.1 in /usr/local/lib/python3.11/site-packages (from PyTouch) (3.7.2)\n",
      "Requirement already satisfied: nox>=2019.11.9 in /usr/local/lib/python3.11/site-packages (from PyTouch) (2023.4.22)\n",
      "Requirement already satisfied: numpy>=1.18.2 in /usr/local/lib/python3.11/site-packages (from PyTouch) (1.25.1)\n",
      "Requirement already satisfied: torch>=1.4.0 in /usr/local/lib/python3.11/site-packages (from PyTouch) (2.0.1)\n",
      "Requirement already satisfied: torchvision>=0.5.0 in /usr/local/lib/python3.11/site-packages (from PyTouch) (0.15.2)\n",
      "Requirement already satisfied: pytorch-lightning in /usr/local/lib/python3.11/site-packages (from PyTouch) (2.0.9)\n",
      "Requirement already satisfied: hydra-core>=1.0.3 in /usr/local/lib/python3.11/site-packages (from PyTouch) (1.3.2)\n",
      "Requirement already satisfied: omegaconf>=2.0.2 in /usr/local/lib/python3.11/site-packages (from PyTouch) (2.3.0)\n",
      "Requirement already satisfied: pandas>=1.0.3 in /usr/local/lib/python3.11/site-packages (from PyTouch) (2.0.3)\n",
      "Requirement already satisfied: torchmetrics in /usr/local/lib/python3.11/site-packages (from PyTouch) (1.2.0)\n",
      "Requirement already satisfied: opencv-python in /usr/local/lib/python3.11/site-packages (from PyTouch) (4.8.0.76)\n",
      "Requirement already satisfied: boto3 in /usr/local/lib/python3.11/site-packages (from PyTouch) (1.28.53)\n",
      "Requirement already satisfied: onnx in /usr/local/lib/python3.11/site-packages (from PyTouch) (1.14.1)\n",
      "Requirement already satisfied: onnxruntime in /usr/local/lib/python3.11/site-packages (from PyTouch) (1.15.1)\n",
      "Requirement already satisfied: antlr4-python3-runtime==4.9.* in /usr/local/lib/python3.11/site-packages (from hydra-core>=1.0.3->PyTouch) (4.9.3)\n",
      "Requirement already satisfied: packaging in /usr/local/lib/python3.11/site-packages (from hydra-core>=1.0.3->PyTouch) (23.1)\n",
      "Requirement already satisfied: contourpy>=1.0.1 in /usr/local/lib/python3.11/site-packages (from matplotlib>=3.2.1->PyTouch) (1.1.0)\n",
      "Requirement already satisfied: cycler>=0.10 in /usr/local/lib/python3.11/site-packages (from matplotlib>=3.2.1->PyTouch) (0.11.0)\n",
      "Requirement already satisfied: fonttools>=4.22.0 in /usr/local/lib/python3.11/site-packages (from matplotlib>=3.2.1->PyTouch) (4.41.0)\n",
      "Requirement already satisfied: kiwisolver>=1.0.1 in /usr/local/lib/python3.11/site-packages (from matplotlib>=3.2.1->PyTouch) (1.4.4)\n",
      "Requirement already satisfied: pillow>=6.2.0 in /usr/local/lib/python3.11/site-packages (from matplotlib>=3.2.1->PyTouch) (9.5.0)\n",
      "Requirement already satisfied: pyparsing<3.1,>=2.3.1 in /usr/local/lib/python3.11/site-packages (from matplotlib>=3.2.1->PyTouch) (3.0.9)\n",
      "Requirement already satisfied: python-dateutil>=2.7 in /usr/local/lib/python3.11/site-packages (from matplotlib>=3.2.1->PyTouch) (2.8.2)\n",
      "Requirement already satisfied: argcomplete<4.0,>=1.9.4 in /usr/local/lib/python3.11/site-packages (from nox>=2019.11.9->PyTouch) (3.1.2)\n",
      "Requirement already satisfied: colorlog<7.0.0,>=2.6.1 in /usr/local/lib/python3.11/site-packages (from nox>=2019.11.9->PyTouch) (6.7.0)\n",
      "Requirement already satisfied: virtualenv>=14 in /usr/local/lib/python3.11/site-packages (from nox>=2019.11.9->PyTouch) (20.24.5)\n",
      "Requirement already satisfied: PyYAML>=5.1.0 in /usr/local/lib/python3.11/site-packages (from omegaconf>=2.0.2->PyTouch) (6.0.1)\n",
      "Requirement already satisfied: pytz>=2020.1 in /usr/local/lib/python3.11/site-packages (from pandas>=1.0.3->PyTouch) (2023.3)\n",
      "Requirement already satisfied: tzdata>=2022.1 in /usr/local/lib/python3.11/site-packages (from pandas>=1.0.3->PyTouch) (2023.3)\n",
      "Requirement already satisfied: filelock in /usr/local/lib/python3.11/site-packages (from torch>=1.4.0->PyTouch) (3.12.2)\n",
      "Requirement already satisfied: typing-extensions in /usr/local/lib/python3.11/site-packages (from torch>=1.4.0->PyTouch) (4.7.1)\n",
      "Requirement already satisfied: sympy in /usr/local/lib/python3.11/site-packages (from torch>=1.4.0->PyTouch) (1.12)\n",
      "Requirement already satisfied: networkx in /usr/local/lib/python3.11/site-packages (from torch>=1.4.0->PyTouch) (3.1)\n",
      "Requirement already satisfied: jinja2 in /usr/local/lib/python3.11/site-packages (from torch>=1.4.0->PyTouch) (3.1.2)\n",
      "Requirement already satisfied: requests in /usr/local/lib/python3.11/site-packages (from torchvision>=0.5.0->PyTouch) (2.31.0)\n",
      "Requirement already satisfied: click>=8.0.0 in /usr/local/lib/python3.11/site-packages (from black->PyTouch) (8.1.6)\n",
      "Requirement already satisfied: mypy-extensions>=0.4.3 in /usr/local/lib/python3.11/site-packages (from black->PyTouch) (1.0.0)\n",
      "Requirement already satisfied: pathspec>=0.9.0 in /usr/local/lib/python3.11/site-packages (from black->PyTouch) (0.11.2)\n",
      "Requirement already satisfied: platformdirs>=2 in /usr/local/lib/python3.11/site-packages (from black->PyTouch) (3.9.1)\n",
      "Requirement already satisfied: botocore<1.32.0,>=1.31.53 in /usr/local/lib/python3.11/site-packages (from boto3->PyTouch) (1.31.53)\n",
      "Requirement already satisfied: jmespath<2.0.0,>=0.7.1 in /usr/local/lib/python3.11/site-packages (from boto3->PyTouch) (1.0.1)\n",
      "Requirement already satisfied: s3transfer<0.7.0,>=0.6.0 in /usr/local/lib/python3.11/site-packages (from boto3->PyTouch) (0.6.2)\n",
      "Requirement already satisfied: mccabe<0.8.0,>=0.7.0 in /usr/local/lib/python3.11/site-packages (from flake8->PyTouch) (0.7.0)\n",
      "Requirement already satisfied: pycodestyle<2.12.0,>=2.11.0 in /usr/local/lib/python3.11/site-packages (from flake8->PyTouch) (2.11.0)\n",
      "Requirement already satisfied: pyflakes<3.2.0,>=3.1.0 in /usr/local/lib/python3.11/site-packages (from flake8->PyTouch) (3.1.0)\n",
      "Requirement already satisfied: setuptools in /usr/local/lib/python3.11/site-packages (from flake8-copyright->PyTouch) (67.6.1)\n",
      "Requirement already satisfied: protobuf>=3.20.2 in /usr/local/lib/python3.11/site-packages (from onnx->PyTouch) (4.23.4)\n",
      "Requirement already satisfied: coloredlogs in /usr/local/lib/python3.11/site-packages (from onnxruntime->PyTouch) (15.0.1)\n",
      "Requirement already satisfied: flatbuffers in /usr/local/lib/python3.11/site-packages (from onnxruntime->PyTouch) (23.5.26)\n",
      "Requirement already satisfied: tqdm>=4.57.0 in /usr/local/lib/python3.11/site-packages (from pytorch-lightning->PyTouch) (4.65.0)\n",
      "Requirement already satisfied: fsspec[http]>2021.06.0 in /usr/local/lib/python3.11/site-packages (from pytorch-lightning->PyTouch) (2023.6.0)\n",
      "Requirement already satisfied: lightning-utilities>=0.7.0 in /usr/local/lib/python3.11/site-packages (from pytorch-lightning->PyTouch) (0.9.0)\n",
      "Requirement already satisfied: urllib3<1.27,>=1.25.4 in /usr/local/lib/python3.11/site-packages (from botocore<1.32.0,>=1.31.53->boto3->PyTouch) (1.26.16)\n",
      "Requirement already satisfied: aiohttp!=4.0.0a0,!=4.0.0a1 in /usr/local/lib/python3.11/site-packages (from fsspec[http]>2021.06.0->pytorch-lightning->PyTouch) (3.8.5)\n",
      "Requirement already satisfied: six>=1.5 in /usr/local/lib/python3.11/site-packages (from python-dateutil>=2.7->matplotlib>=3.2.1->PyTouch) (1.16.0)\n",
      "Requirement already satisfied: distlib<1,>=0.3.7 in /usr/local/lib/python3.11/site-packages (from virtualenv>=14->nox>=2019.11.9->PyTouch) (0.3.7)\n",
      "Requirement already satisfied: humanfriendly>=9.1 in /usr/local/lib/python3.11/site-packages (from coloredlogs->onnxruntime->PyTouch) (10.0)\n",
      "Requirement already satisfied: MarkupSafe>=2.0 in /usr/local/lib/python3.11/site-packages (from jinja2->torch>=1.4.0->PyTouch) (2.1.3)\n",
      "Requirement already satisfied: charset-normalizer<4,>=2 in /usr/local/lib/python3.11/site-packages (from requests->torchvision>=0.5.0->PyTouch) (3.2.0)\n",
      "Requirement already satisfied: idna<4,>=2.5 in /usr/local/lib/python3.11/site-packages (from requests->torchvision>=0.5.0->PyTouch) (3.4)\n",
      "Requirement already satisfied: certifi>=2017.4.17 in /usr/local/lib/python3.11/site-packages (from requests->torchvision>=0.5.0->PyTouch) (2023.5.7)\n",
      "Requirement already satisfied: mpmath>=0.19 in /usr/local/lib/python3.11/site-packages (from sympy->torch>=1.4.0->PyTouch) (1.3.0)\n",
      "Requirement already satisfied: attrs>=17.3.0 in /usr/local/lib/python3.11/site-packages (from aiohttp!=4.0.0a0,!=4.0.0a1->fsspec[http]>2021.06.0->pytorch-lightning->PyTouch) (23.1.0)\n",
      "Requirement already satisfied: multidict<7.0,>=4.5 in /usr/local/lib/python3.11/site-packages (from aiohttp!=4.0.0a0,!=4.0.0a1->fsspec[http]>2021.06.0->pytorch-lightning->PyTouch) (6.0.4)\n",
      "Requirement already satisfied: async-timeout<5.0,>=4.0.0a3 in /usr/local/lib/python3.11/site-packages (from aiohttp!=4.0.0a0,!=4.0.0a1->fsspec[http]>2021.06.0->pytorch-lightning->PyTouch) (4.0.2)\n",
      "Requirement already satisfied: yarl<2.0,>=1.0 in /usr/local/lib/python3.11/site-packages (from aiohttp!=4.0.0a0,!=4.0.0a1->fsspec[http]>2021.06.0->pytorch-lightning->PyTouch) (1.9.2)\n",
      "Requirement already satisfied: frozenlist>=1.1.1 in /usr/local/lib/python3.11/site-packages (from aiohttp!=4.0.0a0,!=4.0.0a1->fsspec[http]>2021.06.0->pytorch-lightning->PyTouch) (1.4.0)\n",
      "Requirement already satisfied: aiosignal>=1.1.2 in /usr/local/lib/python3.11/site-packages (from aiohttp!=4.0.0a0,!=4.0.0a1->fsspec[http]>2021.06.0->pytorch-lightning->PyTouch) (1.3.1)\n",
      "\n",
      "\u001b[1m[\u001b[0m\u001b[34;49mnotice\u001b[0m\u001b[1;39;49m]\u001b[0m\u001b[39;49m A new release of pip is available: \u001b[0m\u001b[31;49m23.0.1\u001b[0m\u001b[39;49m -> \u001b[0m\u001b[32;49m23.2.1\u001b[0m\n",
      "\u001b[1m[\u001b[0m\u001b[34;49mnotice\u001b[0m\u001b[1;39;49m]\u001b[0m\u001b[39;49m To update, run: \u001b[0m\u001b[32;49mpython3.11 -m pip install --upgrade pip\u001b[0m\n"
     ]
    }
   ],
   "source": [
    "#安装依赖\n",
    "!pip3 install -U PyTouch"
   ]
  },
  {
   "cell_type": "code",
   "execution_count": 13,
   "id": "e6bb9971-7a17-4c70-a092-76c10faaf308",
   "metadata": {},
   "outputs": [
    {
     "name": "stdout",
     "output_type": "stream",
     "text": [
      "[[[1 0 0 0 0]\n",
      "  [1 1 0 0 0]\n",
      "  [1 1 1 0 0]\n",
      "  [1 1 1 1 0]\n",
      "  [1 1 1 1 1]]]\n"
     ]
    },
    {
     "data": {
      "text/plain": [
       "<matplotlib.image.AxesImage at 0x12312b310>"
      ]
     },
     "execution_count": 13,
     "metadata": {},
     "output_type": "execute_result"
    },
    {
     "data": {
      "image/png": "[encoded data removed]",
      "text/plain": [
       "<Figure size 500x500 with 1 Axes>"
      ]
     },
     "metadata": {},
     "output_type": "display_data"
    }
   ],
   "source": [
    "import torch\n",
    "import torch.nn as nn \n",
    "import numpy as np \n",
    "import matplotlib.pyplot as plot\n",
    "\n",
    "# 构建一个全1的3维张量\n",
    "init_one_mask = np.ones((1, 5, 5))\n",
    "\n",
    "#构建一个上三角矩阵，其中triu是numpy中构建上三角矩阵的函数，k表示对角线位置，比如k=0表示准对角线，k=1表示在准对角线上\n",
    "#一对角线。astype表示将值转化为无符号8位整型\n",
    "init_mask = np.triu(init_one_mask, k = 1).astype('uint8')\n",
    "\n",
    "#构建后面被遮盖，前面显示的上三角矩阵。如果使用图形化显示，则横轴表示位置，纵轴表示对应的值，而横轴和纵轴的焦点表示是否被隐藏还是显示\n",
    "mask_trai_result = 1 - init_mask\n",
    "print(mask_trai_result)\n",
    "\n",
    "#图形化\n",
    "plot.figure(figsize=(5,5))\n",
    "plot.imshow(mask_trai_result[0])"
   ]
  },
  {
   "cell_type": "code",
   "execution_count": null,
   "id": "c2edf75f-9b44-40fd-9c6c-c9bd68b04752",
   "metadata": {},
   "outputs": [],
   "source": []
  }
 ],
 "metadata": {
  "kernelspec": {
   "display_name": "Python 3 (ipykernel)",
   "language": "python",
   "name": "python3"
  },
  "language_info": {
   "codemirror_mode": {
    "name": "ipython",
    "version": 3
   },
   "file_extension": ".py",
   "mimetype": "text/x-python",
   "name": "python",
   "nbconvert_exporter": "python",
   "pygments_lexer": "ipython3",
   "version": "3.11.4"
  }
 },
 "nbformat": 4,
 "nbformat_minor": 5
}
