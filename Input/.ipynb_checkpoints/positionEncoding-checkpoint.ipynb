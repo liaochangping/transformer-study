{
 "cells": [
  {
   "cell_type": "markdown",
   "id": "e9a5f95f-cc83-40bf-bf53-e6081e6b9049",
   "metadata": {},
   "source": [
    "### 位置编码\n",
    "#### 为什么要加入位置编码器\n",
    "当我们将一段文本分词并转化为词向量数组时，词的顺序在自然语言中确实扮演着重要的角色。这是因为在不同的语境下，词语的排列顺序可以传达不同的意义和语义。这个问题在自然语言处理中被称为“序列建模”问题。\n",
    "\n",
    "为了更好地捕捉这种语义信息，我们引入位置编码器。位置编码器的作用是为词向量添加一些位置相关的信息，以便模型能够区分不同位置的词语。它通过将位置信息与词向量相结合，从而使词向量变得更加丰富和具有上下文感知能力。\n",
    "\n",
    "位置编码器通常使用正弦和余弦函数等数学函数来生成位置编码。这些编码会根据词在句子中的位置而变化，因此不同位置的词会具有不同的位置编码。通过将位置编码添加到词向量中，模型可以区分不同位置的词，从而更好地理解文本的语义。\n",
    "\n",
    "总之，位置编码器的作用是为了帮助模型克服词序对语义理解的影响，使模型能够更好地处理自然语言文本中的序列信息。这在Transformer等深度学习模型中起着关键作用，因为它们是一种高效处理序列数据的架构。"
   ]
  },
  {
   "cell_type": "markdown",
   "id": "6d95106b-54ed-419d-833e-437ad7dd1868",
   "metadata": {},
   "source": [
    "#### 如何实现向原始向量中添加位置信息"
   ]
  },
  {
   "cell_type": "code",
   "execution_count": 3,
   "id": "0204eb45-e0b4-46f0-865c-eab78e79f134",
   "metadata": {},
   "outputs": [
    {
     "name": "stdout",
     "output_type": "stream",
     "text": [
      "Looking in indexes: https://pypi.tuna.tsinghua.edu.cn/simple\n",
      "Requirement already satisfied: PyTouch in /usr/local/lib/python3.11/site-packages (0.4.0)\n",
      "Collecting PyTouch\n",
      "  Using cached https://pypi.tuna.tsinghua.edu.cn/packages/8f/47/33b9d0df325b42acd1081dbcca46623d5175d49713e75b48884155879fd9/pytouch-0.4.2-py3-none-any.whl (66 kB)\n",
      "Requirement already satisfied: black in /usr/local/lib/python3.11/site-packages (from PyTouch) (23.9.1)\n",
      "Requirement already satisfied: flake8 in /usr/local/lib/python3.11/site-packages (from PyTouch) (6.1.0)\n",
      "Requirement already satisfied: flake8-copyright in /usr/local/lib/python3.11/site-packages (from PyTouch) (0.2.4)\n",
      "Requirement already satisfied: isort in /usr/local/lib/python3.11/site-packages (from PyTouch) (5.12.0)\n",
      "Requirement already satisfied: matplotlib>=3.2.1 in /usr/local/lib/python3.11/site-packages (from PyTouch) (3.7.2)\n",
      "Requirement already satisfied: nox>=2019.11.9 in /usr/local/lib/python3.11/site-packages (from PyTouch) (2023.4.22)\n",
      "Requirement already satisfied: numpy>=1.20.0 in /usr/local/lib/python3.11/site-packages (from PyTouch) (1.25.1)\n",
      "Requirement already satisfied: torch>=1.4.0 in /usr/local/lib/python3.11/site-packages (from PyTouch) (2.0.1)\n",
      "Requirement already satisfied: torchvision>=0.5.0 in /usr/local/lib/python3.11/site-packages (from PyTouch) (0.15.2)\n",
      "Requirement already satisfied: pytorch-lightning in /usr/local/lib/python3.11/site-packages (from PyTouch) (2.0.9)\n",
      "Requirement already satisfied: hydra-core>=1.0.3 in /usr/local/lib/python3.11/site-packages (from PyTouch) (1.3.2)\n",
      "Requirement already satisfied: omegaconf>=2.0.2 in /usr/local/lib/python3.11/site-packages (from PyTouch) (2.3.0)\n",
      "Requirement already satisfied: pandas>=1.0.3 in /usr/local/lib/python3.11/site-packages (from PyTouch) (2.0.3)\n",
      "Requirement already satisfied: torchmetrics in /usr/local/lib/python3.11/site-packages (from PyTouch) (1.2.0)\n",
      "Requirement already satisfied: opencv-python in /usr/local/lib/python3.11/site-packages (from PyTouch) (4.8.0.76)\n",
      "Requirement already satisfied: boto3 in /usr/local/lib/python3.11/site-packages (from PyTouch) (1.28.53)\n",
      "Requirement already satisfied: onnx in /usr/local/lib/python3.11/site-packages (from PyTouch) (1.14.1)\n",
      "Requirement already satisfied: onnxruntime in /usr/local/lib/python3.11/site-packages (from PyTouch) (1.15.1)\n",
      "Requirement already satisfied: antlr4-python3-runtime==4.9.* in /usr/local/lib/python3.11/site-packages (from hydra-core>=1.0.3->PyTouch) (4.9.3)\n",
      "Requirement already satisfied: packaging in /usr/local/lib/python3.11/site-packages (from hydra-core>=1.0.3->PyTouch) (23.1)\n",
      "Requirement already satisfied: contourpy>=1.0.1 in /usr/local/lib/python3.11/site-packages (from matplotlib>=3.2.1->PyTouch) (1.1.0)\n",
      "Requirement already satisfied: cycler>=0.10 in /usr/local/lib/python3.11/site-packages (from matplotlib>=3.2.1->PyTouch) (0.11.0)\n",
      "Requirement already satisfied: fonttools>=4.22.0 in /usr/local/lib/python3.11/site-packages (from matplotlib>=3.2.1->PyTouch) (4.41.0)\n",
      "Requirement already satisfied: kiwisolver>=1.0.1 in /usr/local/lib/python3.11/site-packages (from matplotlib>=3.2.1->PyTouch) (1.4.4)\n",
      "Requirement already satisfied: pillow>=6.2.0 in /usr/local/lib/python3.11/site-packages (from matplotlib>=3.2.1->PyTouch) (9.5.0)\n",
      "Requirement already satisfied: pyparsing<3.1,>=2.3.1 in /usr/local/lib/python3.11/site-packages (from matplotlib>=3.2.1->PyTouch) (3.0.9)\n",
      "Requirement already satisfied: python-dateutil>=2.7 in /usr/local/lib/python3.11/site-packages (from matplotlib>=3.2.1->PyTouch) (2.8.2)\n",
      "Requirement already satisfied: argcomplete<4.0,>=1.9.4 in /usr/local/lib/python3.11/site-packages (from nox>=2019.11.9->PyTouch) (3.1.2)\n",
      "Requirement already satisfied: colorlog<7.0.0,>=2.6.1 in /usr/local/lib/python3.11/site-packages (from nox>=2019.11.9->PyTouch) (6.7.0)\n",
      "Requirement already satisfied: virtualenv>=14 in /usr/local/lib/python3.11/site-packages (from nox>=2019.11.9->PyTouch) (20.24.5)\n",
      "Requirement already satisfied: PyYAML>=5.1.0 in /usr/local/lib/python3.11/site-packages (from omegaconf>=2.0.2->PyTouch) (6.0.1)\n",
      "Requirement already satisfied: pytz>=2020.1 in /usr/local/lib/python3.11/site-packages (from pandas>=1.0.3->PyTouch) (2023.3)\n",
      "Requirement already satisfied: tzdata>=2022.1 in /usr/local/lib/python3.11/site-packages (from pandas>=1.0.3->PyTouch) (2023.3)\n",
      "Requirement already satisfied: filelock in /usr/local/lib/python3.11/site-packages (from torch>=1.4.0->PyTouch) (3.12.2)\n",
      "Requirement already satisfied: typing-extensions in /usr/local/lib/python3.11/site-packages (from torch>=1.4.0->PyTouch) (4.7.1)\n",
      "Requirement already satisfied: sympy in /usr/local/lib/python3.11/site-packages (from torch>=1.4.0->PyTouch) (1.12)\n",
      "Requirement already satisfied: networkx in /usr/local/lib/python3.11/site-packages (from torch>=1.4.0->PyTouch) (3.1)\n",
      "Requirement already satisfied: jinja2 in /usr/local/lib/python3.11/site-packages (from torch>=1.4.0->PyTouch) (3.1.2)\n",
      "Requirement already satisfied: requests in /usr/local/lib/python3.11/site-packages (from torchvision>=0.5.0->PyTouch) (2.31.0)\n",
      "Requirement already satisfied: click>=8.0.0 in /usr/local/lib/python3.11/site-packages (from black->PyTouch) (8.1.6)\n",
      "Requirement already satisfied: mypy-extensions>=0.4.3 in /usr/local/lib/python3.11/site-packages (from black->PyTouch) (1.0.0)\n",
      "Requirement already satisfied: pathspec>=0.9.0 in /usr/local/lib/python3.11/site-packages (from black->PyTouch) (0.11.2)\n",
      "Requirement already satisfied: platformdirs>=2 in /usr/local/lib/python3.11/site-packages (from black->PyTouch) (3.9.1)\n",
      "Requirement already satisfied: botocore<1.32.0,>=1.31.53 in /usr/local/lib/python3.11/site-packages (from boto3->PyTouch) (1.31.53)\n",
      "Requirement already satisfied: jmespath<2.0.0,>=0.7.1 in /usr/local/lib/python3.11/site-packages (from boto3->PyTouch) (1.0.1)\n",
      "Requirement already satisfied: s3transfer<0.7.0,>=0.6.0 in /usr/local/lib/python3.11/site-packages (from boto3->PyTouch) (0.6.2)\n",
      "Requirement already satisfied: mccabe<0.8.0,>=0.7.0 in /usr/local/lib/python3.11/site-packages (from flake8->PyTouch) (0.7.0)\n",
      "Requirement already satisfied: pycodestyle<2.12.0,>=2.11.0 in /usr/local/lib/python3.11/site-packages (from flake8->PyTouch) (2.11.0)\n",
      "Requirement already satisfied: pyflakes<3.2.0,>=3.1.0 in /usr/local/lib/python3.11/site-packages (from flake8->PyTouch) (3.1.0)\n",
      "Requirement already satisfied: setuptools in /usr/local/lib/python3.11/site-packages (from flake8-copyright->PyTouch) (67.6.1)\n",
      "Requirement already satisfied: protobuf>=3.20.2 in /usr/local/lib/python3.11/site-packages (from onnx->PyTouch) (4.23.4)\n",
      "Requirement already satisfied: coloredlogs in /usr/local/lib/python3.11/site-packages (from onnxruntime->PyTouch) (15.0.1)\n",
      "Requirement already satisfied: flatbuffers in /usr/local/lib/python3.11/site-packages (from onnxruntime->PyTouch) (23.5.26)\n",
      "Requirement already satisfied: tqdm>=4.57.0 in /usr/local/lib/python3.11/site-packages (from pytorch-lightning->PyTouch) (4.65.0)\n",
      "Requirement already satisfied: fsspec[http]>2021.06.0 in /usr/local/lib/python3.11/site-packages (from pytorch-lightning->PyTouch) (2023.6.0)\n",
      "Requirement already satisfied: lightning-utilities>=0.7.0 in /usr/local/lib/python3.11/site-packages (from pytorch-lightning->PyTouch) (0.9.0)\n",
      "Requirement already satisfied: urllib3<1.27,>=1.25.4 in /usr/local/lib/python3.11/site-packages (from botocore<1.32.0,>=1.31.53->boto3->PyTouch) (1.26.16)\n",
      "Requirement already satisfied: aiohttp!=4.0.0a0,!=4.0.0a1 in /usr/local/lib/python3.11/site-packages (from fsspec[http]>2021.06.0->pytorch-lightning->PyTouch) (3.8.5)\n",
      "Requirement already satisfied: six>=1.5 in /usr/local/lib/python3.11/site-packages (from python-dateutil>=2.7->matplotlib>=3.2.1->PyTouch) (1.16.0)\n",
      "Requirement already satisfied: distlib<1,>=0.3.7 in /usr/local/lib/python3.11/site-packages (from virtualenv>=14->nox>=2019.11.9->PyTouch) (0.3.7)\n",
      "Requirement already satisfied: humanfriendly>=9.1 in /usr/local/lib/python3.11/site-packages (from coloredlogs->onnxruntime->PyTouch) (10.0)\n",
      "Requirement already satisfied: MarkupSafe>=2.0 in /usr/local/lib/python3.11/site-packages (from jinja2->torch>=1.4.0->PyTouch) (2.1.3)\n",
      "Requirement already satisfied: charset-normalizer<4,>=2 in /usr/local/lib/python3.11/site-packages (from requests->torchvision>=0.5.0->PyTouch) (3.2.0)\n",
      "Requirement already satisfied: idna<4,>=2.5 in /usr/local/lib/python3.11/site-packages (from requests->torchvision>=0.5.0->PyTouch) (3.4)\n",
      "Requirement already satisfied: certifi>=2017.4.17 in /usr/local/lib/python3.11/site-packages (from requests->torchvision>=0.5.0->PyTouch) (2023.5.7)\n",
      "Requirement already satisfied: mpmath>=0.19 in /usr/local/lib/python3.11/site-packages (from sympy->torch>=1.4.0->PyTouch) (1.3.0)\n",
      "Requirement already satisfied: attrs>=17.3.0 in /usr/local/lib/python3.11/site-packages (from aiohttp!=4.0.0a0,!=4.0.0a1->fsspec[http]>2021.06.0->pytorch-lightning->PyTouch) (23.1.0)\n",
      "Requirement already satisfied: multidict<7.0,>=4.5 in /usr/local/lib/python3.11/site-packages (from aiohttp!=4.0.0a0,!=4.0.0a1->fsspec[http]>2021.06.0->pytorch-lightning->PyTouch) (6.0.4)\n",
      "Requirement already satisfied: async-timeout<5.0,>=4.0.0a3 in /usr/local/lib/python3.11/site-packages (from aiohttp!=4.0.0a0,!=4.0.0a1->fsspec[http]>2021.06.0->pytorch-lightning->PyTouch) (4.0.2)\n",
      "Requirement already satisfied: yarl<2.0,>=1.0 in /usr/local/lib/python3.11/site-packages (from aiohttp!=4.0.0a0,!=4.0.0a1->fsspec[http]>2021.06.0->pytorch-lightning->PyTouch) (1.9.2)\n",
      "Requirement already satisfied: frozenlist>=1.1.1 in /usr/local/lib/python3.11/site-packages (from aiohttp!=4.0.0a0,!=4.0.0a1->fsspec[http]>2021.06.0->pytorch-lightning->PyTouch) (1.4.0)\n",
      "Requirement already satisfied: aiosignal>=1.1.2 in /usr/local/lib/python3.11/site-packages (from aiohttp!=4.0.0a0,!=4.0.0a1->fsspec[http]>2021.06.0->pytorch-lightning->PyTouch) (1.3.1)\n",
      "\n",
      "\u001b[1m[\u001b[0m\u001b[34;49mnotice\u001b[0m\u001b[1;39;49m]\u001b[0m\u001b[39;49m A new release of pip is available: \u001b[0m\u001b[31;49m23.0.1\u001b[0m\u001b[39;49m -> \u001b[0m\u001b[32;49m23.2.1\u001b[0m\n",
      "\u001b[1m[\u001b[0m\u001b[34;49mnotice\u001b[0m\u001b[1;39;49m]\u001b[0m\u001b[39;49m To update, run: \u001b[0m\u001b[32;49mpython3.11 -m pip install --upgrade pip\u001b[0m\n"
     ]
    }
   ],
   "source": [
    "#安装依赖\n",
    "!pip3 install -U PyTouch"
   ]
  },
  {
   "cell_type": "code",
   "execution_count": 34,
   "id": "7955f3c5-4239-49c5-9574-e700d9423813",
   "metadata": {},
   "outputs": [],
   "source": [
    "import torch\n",
    "import torch.nn as nn \n",
    "from torch.autograd import Variable\n",
    "import math"
   ]
  },
  {
   "cell_type": "code",
   "execution_count": 5,
   "id": "4548026c-4a75-4902-9ac5-796ccf925135",
   "metadata": {},
   "outputs": [],
   "source": [
    "# 使用Dropout的主要目的是减少神经网络对于训练数据的过度依赖，从而提高模型的泛化能力。它通过在训练过程中随机关闭一些神经元（或输入元素）来实现这一目标，从而使模型更具鲁棒性。\n",
    "# p表示置零的概率，下文中p=0.2，表示置零的概率为20%\n",
    "dropout = nn.Dropout(p=0.2)\n",
    "# 产生一个4行5列的张量，每一列都是一个浮点值\n",
    "input = torch.randn(4,5)\n",
    "#print(input)"
   ]
  },
  {
   "cell_type": "code",
   "execution_count": 6,
   "id": "e5aa17d8-af3a-4e81-b095-b0b54246c275",
   "metadata": {},
   "outputs": [],
   "source": [
    "#使用dropout去对input进行置零\n",
    "d_input = dropout(input)\n",
    "#print(d_input)"
   ]
  },
  {
   "cell_type": "code",
   "execution_count": 7,
   "id": "05226f00-e61e-4d17-b03c-1c00232b7aaa",
   "metadata": {},
   "outputs": [
    {
     "name": "stdout",
     "output_type": "stream",
     "text": [
      "tensor([1, 2, 3, 4])\n"
     ]
    }
   ],
   "source": [
    "# 当前是一维张量（由于传入的data是一个一维数组，所以生成一个一维的张量。如果要生成多维的张量，则需要传入多维的数组）\n",
    "tensor = torch.tensor([1,2,3,4])\n",
    "print(tensor)"
   ]
  },
  {
   "cell_type": "code",
   "execution_count": 8,
   "id": "e9d00c9d-8678-4dc3-805b-a95e835b1539",
   "metadata": {},
   "outputs": [
    {
     "name": "stdout",
     "output_type": "stream",
     "text": [
      "tensor([[1, 2, 3, 4]])\n"
     ]
    }
   ],
   "source": [
    "# 给tensor添加维度，其中tensor表示要处理的输入张量，dim=0表示在张量的第一个维度前插入维度为1的维度\n",
    "n_tensor = torch.unsqueeze(tensor, 0)\n",
    "print(n_tensor)"
   ]
  },
  {
   "cell_type": "code",
   "execution_count": 36,
   "id": "5d766f6e-f730-44cf-8e0e-c933cb967f3a",
   "metadata": {},
   "outputs": [
    {
     "name": "stdout",
     "output_type": "stream",
     "text": [
      "tensor([[[ 0.2019, -0.9391,  1.3166,  ..., -0.1610,  0.1671,  1.1870],\n",
      "         [-1.0331, -0.4053,  0.9883,  ...,  0.1984, -0.7648, -0.9346],\n",
      "         [ 0.2019, -0.9391,  1.3166,  ..., -0.1610,  0.1671,  1.1870],\n",
      "         [-1.3387, -0.2966, -0.5836,  ..., -0.5660,  0.9143, -0.3302]]],\n",
      "       grad_fn=<EmbeddingBackward0>)\n",
      "tensor([[[ 0.2243,  0.0677,  1.4629,  ...,  0.9322,  0.1857,  2.4300],\n",
      "         [-0.2129,  0.1500,  1.9862,  ...,  0.0000, -0.8497,  0.0727],\n",
      "         [ 0.0000, -1.5058,  2.5303,  ...,  0.9322,  0.1857,  2.4300],\n",
      "         [-1.3306, -0.0000, -0.2537,  ...,  0.4823,  1.0159,  0.7443]]],\n",
      "       grad_fn=<MulBackward0>)\n"
     ]
    }
   ],
   "source": [
    "class PositionalEncoding(nn.Module):\n",
    "    def __init__(self, d_model, dropout, max_len=5000):\n",
    "        super(PositionalEncoding, self).__init__()\n",
    "\n",
    "        # 构建dropout对象, 置0率为dropout\n",
    "        self.dropout = nn.Dropout(dropout)\n",
    "        # 构建一个跟潜入向量一样大小的初始化位置张量\n",
    "        init_pe = torch.zeros(max_len, d_model)\n",
    "        \n",
    "        # print(init_pe)\n",
    "        \n",
    "        # 构建一个绝对位置的矩阵(一维的数组，表示通过数值来确定位置），通过unsqueeze来扩充维度大小为max_len * 1\n",
    "        position_pe = torch.arange(0, max_len).unsqueeze(1)\n",
    "        # print(position_pe)\n",
    "        \n",
    "        # 为了实现对init_pe的位置变化，我们需要绝对位置矩阵 x 变换矩阵，最终转化为对应的max_len * d_model的矩阵\n",
    "        # torch.arange(0, d_model, 2)表示构建一个d_model / 2 维度的举证，通过math.log(10000.0) / d_model进行矩阵的缩放，从而实现为后期更好的梯度打下基础\n",
    "        translate_pe = torch.exp(torch.arange(0, d_model, 2) * -(math.log(100000.0) / d_model))\n",
    "        # print(position_pe * translate_pe)\n",
    "        #通过position_pe * translate_pe构建一个max_len * (d_model / 2)的二维矩阵\n",
    "        #init_pe[:, 0::2]表示给所有行的偶数列赋正position_pe * translate_pe的旋值，注意：此时position_pe * translate_pe正好是能够d_model / 2的列，正好\n",
    "        #对应init_pe的偶数列的大小\n",
    "        init_pe[:,0::2] = torch.sin(position_pe * translate_pe)\n",
    "        init_pe[:,1::2] = torch.cos(position_pe * translate_pe)\n",
    "        \n",
    "        #由于embedding会将原始n * m维度的矩阵数据转换为n * m * embedding维度，所以此时需要将init_pe增加一个维度，默认在第0个位置增加\n",
    "        stand_poisition_pe = init_pe.unsqueeze(0)\n",
    "        # print(stand_poisition_pe)\n",
    "\n",
    "        #由于这个位置编码矩阵是不会变化的，已经构建则可以一直使用\n",
    "        self.register_buffer('pe', stand_poisition_pe)\n",
    "\n",
    "    def forward(self, x):\n",
    "        \"\"\"对文本序列的词潜入向量进行位置编码\"\"\"\n",
    "        #x表示文本词向量\n",
    "        #由于stand_poisition_pe的第1维度的大小过大，其实只需要跟x的第1维度大小一样即可\n",
    "        x = x + Variable(self.pe[:, :x.size(1), :], requires_grad=False)\n",
    "        #开始对经过位置编码后的向量进行置0\n",
    "        return self.dropout(x)\n",
    "\n",
    "dropout = 0.1\n",
    "max_len = 500\n",
    "d_model = 300\n",
    "\n",
    "position_encode = PositionalEncoding(d_model, dropout, max_len)\n",
    "\n",
    "embedding = nn.Embedding(max_len, d_model)\n",
    "input = torch.LongTensor([[0, 2, 0, 5]])\n",
    "input_val = embedding(input)\n",
    "print(input_val)\n",
    "print(position_encode.forward(input_val))\n",
    "\n"
   ]
  },
  {
   "cell_type": "markdown",
   "id": "1bb8e130-12b4-490d-8f06-04d812d10d3e",
   "metadata": {},
   "source": [
    "#### 总结\n",
    "在使用LLM（大型语言模型，如Transformer）进行语义理解时，原始文本经过词向量化后，词语的语义信息是相同的，因为位置信息被忽略了。这可能导致模型无法正确理解文本中词语的语境和关系。\n",
    "为了解决这个问题，引入了位置编码器。位置编码器的作用是为每个词向量添加位置信息，以便模型可以区分不同位置的词语，并更好地理解文本的语义。正弦和余弦函数是一种常用的方式来构建位置编码，因为它们能够生成不同位置的编码，并且这些编码可以与词向量相加，从而生成包含位置信息的文本向量。\n",
    "通过将词向量和位置编码相结合，最终生成的文本向量包含了词语的语义信息和它们在句子中的位置信息。这使得模型能够更准确地捕捉文本中的语境和关系，从而提高了自然语言处理任务的性能，如机器翻译、文本生成和文本分类等。位置编码是Transformer模型中的一个关键组成部分，它有助于模型处理序列数据，特别是在处理长文本时表现出色"
   ]
  },
  {
   "cell_type": "code",
   "execution_count": null,
   "id": "c8b98286-0b56-4b62-bd2b-2739d8d1029a",
   "metadata": {},
   "outputs": [],
   "source": []
  }
 ],
 "metadata": {
  "kernelspec": {
   "display_name": "Python 3 (ipykernel)",
   "language": "python",
   "name": "python3"
  },
  "language_info": {
   "codemirror_mode": {
    "name": "ipython",
    "version": 3
   },
   "file_extension": ".py",
   "mimetype": "text/x-python",
   "name": "python",
   "nbconvert_exporter": "python",
   "pygments_lexer": "ipython3",
   "version": "3.11.4"
  }
 },
 "nbformat": 4,
 "nbformat_minor": 5
}
