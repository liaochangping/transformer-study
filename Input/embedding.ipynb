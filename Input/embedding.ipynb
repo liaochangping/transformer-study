{
 "cells": [
  {
   "cell_type": "code",
   "execution_count": 1,
   "id": "1409366d-0ba5-4b16-82e5-69222dd587fd",
   "metadata": {},
   "outputs": [],
   "source": [
    "###背景：在transformer架构中，input作为transformer中输入的起点，任意的字符串作为输入，经由分词器，将字符串分隔成具有不同语义的字符串数组，然后使用对应的embedding模型对字符串数组进行潜入操作，从而生成具有不同语义的向量数组。那这个embedding到底做了什么，为什么要embedding，embedding后的内容是什么呢？\n",
    "###今天我们就针对aigc中input输入内容embedding过程进行分析，从而实现以下目的：\n",
    "###1. embedding 是什么？ \n",
    "###2. 为什么要embedding？\n",
    "###3. embedding 模型的选型\n",
    "###4. 如何使用pytouch构建embedding"
   ]
  },
  {
   "cell_type": "markdown",
   "id": "35a0cabf-1a5a-4c31-a130-d0997fd7ab42",
   "metadata": {},
   "source": [
    "### Embedding是什么？\n",
    "Embedding 是一种将离散的、高维的、没有语义关联的符号数据（如单词或类别标签）映射到低维的、具有语义关联的连续向量空间的技术。这个连续向量表示被称为嵌入（Embedding）。嵌入的目的是为了让计算机更好地理解和处理这些符号数据，同时减少计算复杂度。\n",
    "\n",
    "### 为什么要使用Embedding?\n",
    "使用Embedding的原因有两点：\n",
    "#### 减少维度和计算复杂度：\n",
    "将高维的离散数据转换为低维的连续向量可以减少计算和存储资源的需求，特别是在处理大型词汇表时。相比于独热编码等高维表示，嵌入向量的维度通常较低，但仍能保留数据的语义信息。\n",
    "#### 引入语义关联：\n",
    "嵌入向量的另一个重要特性是，相似的符号在嵌入空间中会更接近。这意味着具有相似语义的单词或类别标签在向量空间中距离较近，从而可以更好地捕捉它们之间的语义关系。这对于自然语言处理等任务非常有用，因为模型可以更好地泛化和理解文本数据。\n",
    "\n",
    "总之，Embedding 是一种将离散数据转换为连续向量的技术，它旨在减少维度和引入语义关联，以帮助计算机更好地处理符号数据。您的解释大体正确，只是稍微添加了一些澄清和补充信息。\n",
    "\n",
    "### Embedding历程\n",
    "#### 词汇表和One-Hot Encoding\n",
    "在早期的计算机科学和自然语言处理中，为了处理文本数据，人们通常会建立一个词汇表，其中包含了语言中的所有词汇。计算机通过将每个单词映射到词汇表中的一个索引或位置，以将文本表示为数字形式。One-Hot Encoding（独热编码）是一种常见的方法，它将每个单词表示为一个高维度的二进制向量，其中只有一个位置是1，其余都是0。这个方法容易理解，但导致了高维度的表示，浪费了存储空间并增加了计算复杂性。\n",
    "\n",
    "#### 嵌入（Embedding）的引入\n",
    "随着深度学习和神经网络的发展，科学家们引入了嵌入技术，这是一种将离散的符号数据映射到低维度的连续向量空间的方法。嵌入矩阵被用来将每个单词或符号映射到一个向量，而这些向量之间可以具有语义关联。这种方法在自然语言处理中取得了巨大的成功，因为它更有效地表示了语言的语义信息。在嵌入空间中，如果两个向量在某个维度上靠近，那么表示这两个符号的词也在语义上相似。\n",
    "\n",
    "嵌入技术的出现确实是一项重要的进步，使得计算机能够更好地理解和处理自然语言，同时减少了维度和提高了语义关联性\n"
   ]
  },
  {
   "cell_type": "markdown",
   "id": "71309d85-aeb5-44c3-b546-c80d7557c8a7",
   "metadata": {},
   "source": [
    "### 常见的embedding 模型的选型"
   ]
  },
  {
   "cell_type": "markdown",
   "id": "fd22b725-0120-4d9b-8caa-8cbdafa7d748",
   "metadata": {},
   "source": [
    "### 构建embedding\n",
    "PyTorch是一个深度学习框架，借助于该框架提供的工具和算法，我们可以基于大量数据和特定算法训练出针对特定场景的模型。在下文中，我们使用PyTorch的nn模块来构建嵌入层，这是一种通用的构建嵌入层的方法。而像Word2Vec等模型/算法，则是在经过大量数据和专门的算法训练后得到的。PyTorch构建的嵌入层经过特定算法和大量数据的训练后，也可以生成类似于Word2Vec等模型的嵌入"
   ]
  },
  {
   "cell_type": "code",
   "execution_count": 2,
   "id": "edbc924b-76d3-4aa8-89d1-2a47d3871862",
   "metadata": {},
   "outputs": [
    {
     "name": "stdout",
     "output_type": "stream",
     "text": [
      "Looking in indexes: https://pypi.tuna.tsinghua.edu.cn/simple\n",
      "Requirement already satisfied: PyTouch in /usr/local/lib/python3.11/site-packages (0.4.0)\n",
      "Collecting PyTouch\n",
      "  Using cached https://pypi.tuna.tsinghua.edu.cn/packages/8f/47/33b9d0df325b42acd1081dbcca46623d5175d49713e75b48884155879fd9/pytouch-0.4.2-py3-none-any.whl (66 kB)\n",
      "Requirement already satisfied: black in /usr/local/lib/python3.11/site-packages (from PyTouch) (23.9.1)\n",
      "Requirement already satisfied: flake8 in /usr/local/lib/python3.11/site-packages (from PyTouch) (6.1.0)\n",
      "Requirement already satisfied: flake8-copyright in /usr/local/lib/python3.11/site-packages (from PyTouch) (0.2.4)\n",
      "Requirement already satisfied: isort in /usr/local/lib/python3.11/site-packages (from PyTouch) (5.12.0)\n",
      "Requirement already satisfied: matplotlib>=3.2.1 in /usr/local/lib/python3.11/site-packages (from PyTouch) (3.7.2)\n",
      "Requirement already satisfied: nox>=2019.11.9 in /usr/local/lib/python3.11/site-packages (from PyTouch) (2023.4.22)\n",
      "Requirement already satisfied: numpy>=1.20.0 in /usr/local/lib/python3.11/site-packages (from PyTouch) (1.25.1)\n",
      "Requirement already satisfied: torch>=1.4.0 in /usr/local/lib/python3.11/site-packages (from PyTouch) (2.0.1)\n",
      "Requirement already satisfied: torchvision>=0.5.0 in /usr/local/lib/python3.11/site-packages (from PyTouch) (0.15.2)\n",
      "Requirement already satisfied: pytorch-lightning in /usr/local/lib/python3.11/site-packages (from PyTouch) (2.0.9)\n",
      "Requirement already satisfied: hydra-core>=1.0.3 in /usr/local/lib/python3.11/site-packages (from PyTouch) (1.3.2)\n",
      "Requirement already satisfied: omegaconf>=2.0.2 in /usr/local/lib/python3.11/site-packages (from PyTouch) (2.3.0)\n",
      "Requirement already satisfied: pandas>=1.0.3 in /usr/local/lib/python3.11/site-packages (from PyTouch) (2.0.3)\n",
      "Requirement already satisfied: torchmetrics in /usr/local/lib/python3.11/site-packages (from PyTouch) (1.2.0)\n",
      "Requirement already satisfied: opencv-python in /usr/local/lib/python3.11/site-packages (from PyTouch) (4.8.0.76)\n",
      "Requirement already satisfied: boto3 in /usr/local/lib/python3.11/site-packages (from PyTouch) (1.28.53)\n",
      "Requirement already satisfied: onnx in /usr/local/lib/python3.11/site-packages (from PyTouch) (1.14.1)\n",
      "Requirement already satisfied: onnxruntime in /usr/local/lib/python3.11/site-packages (from PyTouch) (1.15.1)\n",
      "Requirement already satisfied: antlr4-python3-runtime==4.9.* in /usr/local/lib/python3.11/site-packages (from hydra-core>=1.0.3->PyTouch) (4.9.3)\n",
      "Requirement already satisfied: packaging in /usr/local/lib/python3.11/site-packages (from hydra-core>=1.0.3->PyTouch) (23.1)\n",
      "Requirement already satisfied: contourpy>=1.0.1 in /usr/local/lib/python3.11/site-packages (from matplotlib>=3.2.1->PyTouch) (1.1.0)\n",
      "Requirement already satisfied: cycler>=0.10 in /usr/local/lib/python3.11/site-packages (from matplotlib>=3.2.1->PyTouch) (0.11.0)\n",
      "Requirement already satisfied: fonttools>=4.22.0 in /usr/local/lib/python3.11/site-packages (from matplotlib>=3.2.1->PyTouch) (4.41.0)\n",
      "Requirement already satisfied: kiwisolver>=1.0.1 in /usr/local/lib/python3.11/site-packages (from matplotlib>=3.2.1->PyTouch) (1.4.4)\n",
      "Requirement already satisfied: pillow>=6.2.0 in /usr/local/lib/python3.11/site-packages (from matplotlib>=3.2.1->PyTouch) (9.5.0)\n",
      "Requirement already satisfied: pyparsing<3.1,>=2.3.1 in /usr/local/lib/python3.11/site-packages (from matplotlib>=3.2.1->PyTouch) (3.0.9)\n",
      "Requirement already satisfied: python-dateutil>=2.7 in /usr/local/lib/python3.11/site-packages (from matplotlib>=3.2.1->PyTouch) (2.8.2)\n",
      "Requirement already satisfied: argcomplete<4.0,>=1.9.4 in /usr/local/lib/python3.11/site-packages (from nox>=2019.11.9->PyTouch) (3.1.2)\n",
      "Requirement already satisfied: colorlog<7.0.0,>=2.6.1 in /usr/local/lib/python3.11/site-packages (from nox>=2019.11.9->PyTouch) (6.7.0)\n",
      "Requirement already satisfied: virtualenv>=14 in /usr/local/lib/python3.11/site-packages (from nox>=2019.11.9->PyTouch) (20.24.5)\n",
      "Requirement already satisfied: PyYAML>=5.1.0 in /usr/local/lib/python3.11/site-packages (from omegaconf>=2.0.2->PyTouch) (6.0.1)\n",
      "Requirement already satisfied: pytz>=2020.1 in /usr/local/lib/python3.11/site-packages (from pandas>=1.0.3->PyTouch) (2023.3)\n",
      "Requirement already satisfied: tzdata>=2022.1 in /usr/local/lib/python3.11/site-packages (from pandas>=1.0.3->PyTouch) (2023.3)\n",
      "Requirement already satisfied: filelock in /usr/local/lib/python3.11/site-packages (from torch>=1.4.0->PyTouch) (3.12.2)\n",
      "Requirement already satisfied: typing-extensions in /usr/local/lib/python3.11/site-packages (from torch>=1.4.0->PyTouch) (4.7.1)\n",
      "Requirement already satisfied: sympy in /usr/local/lib/python3.11/site-packages (from torch>=1.4.0->PyTouch) (1.12)\n",
      "Requirement already satisfied: networkx in /usr/local/lib/python3.11/site-packages (from torch>=1.4.0->PyTouch) (3.1)\n",
      "Requirement already satisfied: jinja2 in /usr/local/lib/python3.11/site-packages (from torch>=1.4.0->PyTouch) (3.1.2)\n",
      "Requirement already satisfied: requests in /usr/local/lib/python3.11/site-packages (from torchvision>=0.5.0->PyTouch) (2.31.0)\n",
      "Requirement already satisfied: click>=8.0.0 in /usr/local/lib/python3.11/site-packages (from black->PyTouch) (8.1.6)\n",
      "Requirement already satisfied: mypy-extensions>=0.4.3 in /usr/local/lib/python3.11/site-packages (from black->PyTouch) (1.0.0)\n",
      "Requirement already satisfied: pathspec>=0.9.0 in /usr/local/lib/python3.11/site-packages (from black->PyTouch) (0.11.2)\n",
      "Requirement already satisfied: platformdirs>=2 in /usr/local/lib/python3.11/site-packages (from black->PyTouch) (3.9.1)\n",
      "Requirement already satisfied: botocore<1.32.0,>=1.31.53 in /usr/local/lib/python3.11/site-packages (from boto3->PyTouch) (1.31.53)\n",
      "Requirement already satisfied: jmespath<2.0.0,>=0.7.1 in /usr/local/lib/python3.11/site-packages (from boto3->PyTouch) (1.0.1)\n",
      "Requirement already satisfied: s3transfer<0.7.0,>=0.6.0 in /usr/local/lib/python3.11/site-packages (from boto3->PyTouch) (0.6.2)\n",
      "Requirement already satisfied: mccabe<0.8.0,>=0.7.0 in /usr/local/lib/python3.11/site-packages (from flake8->PyTouch) (0.7.0)\n",
      "Requirement already satisfied: pycodestyle<2.12.0,>=2.11.0 in /usr/local/lib/python3.11/site-packages (from flake8->PyTouch) (2.11.0)\n",
      "Requirement already satisfied: pyflakes<3.2.0,>=3.1.0 in /usr/local/lib/python3.11/site-packages (from flake8->PyTouch) (3.1.0)\n",
      "Requirement already satisfied: setuptools in /usr/local/lib/python3.11/site-packages (from flake8-copyright->PyTouch) (67.6.1)\n",
      "Requirement already satisfied: protobuf>=3.20.2 in /usr/local/lib/python3.11/site-packages (from onnx->PyTouch) (4.23.4)\n",
      "Requirement already satisfied: coloredlogs in /usr/local/lib/python3.11/site-packages (from onnxruntime->PyTouch) (15.0.1)\n",
      "Requirement already satisfied: flatbuffers in /usr/local/lib/python3.11/site-packages (from onnxruntime->PyTouch) (23.5.26)\n",
      "Requirement already satisfied: tqdm>=4.57.0 in /usr/local/lib/python3.11/site-packages (from pytorch-lightning->PyTouch) (4.65.0)\n",
      "Requirement already satisfied: fsspec[http]>2021.06.0 in /usr/local/lib/python3.11/site-packages (from pytorch-lightning->PyTouch) (2023.6.0)\n",
      "Requirement already satisfied: lightning-utilities>=0.7.0 in /usr/local/lib/python3.11/site-packages (from pytorch-lightning->PyTouch) (0.9.0)\n",
      "Requirement already satisfied: urllib3<1.27,>=1.25.4 in /usr/local/lib/python3.11/site-packages (from botocore<1.32.0,>=1.31.53->boto3->PyTouch) (1.26.16)\n",
      "Requirement already satisfied: aiohttp!=4.0.0a0,!=4.0.0a1 in /usr/local/lib/python3.11/site-packages (from fsspec[http]>2021.06.0->pytorch-lightning->PyTouch) (3.8.5)\n",
      "Requirement already satisfied: six>=1.5 in /usr/local/lib/python3.11/site-packages (from python-dateutil>=2.7->matplotlib>=3.2.1->PyTouch) (1.16.0)\n",
      "Requirement already satisfied: distlib<1,>=0.3.7 in /usr/local/lib/python3.11/site-packages (from virtualenv>=14->nox>=2019.11.9->PyTouch) (0.3.7)\n",
      "Requirement already satisfied: humanfriendly>=9.1 in /usr/local/lib/python3.11/site-packages (from coloredlogs->onnxruntime->PyTouch) (10.0)\n",
      "Requirement already satisfied: MarkupSafe>=2.0 in /usr/local/lib/python3.11/site-packages (from jinja2->torch>=1.4.0->PyTouch) (2.1.3)\n",
      "Requirement already satisfied: charset-normalizer<4,>=2 in /usr/local/lib/python3.11/site-packages (from requests->torchvision>=0.5.0->PyTouch) (3.2.0)\n",
      "Requirement already satisfied: idna<4,>=2.5 in /usr/local/lib/python3.11/site-packages (from requests->torchvision>=0.5.0->PyTouch) (3.4)\n",
      "Requirement already satisfied: certifi>=2017.4.17 in /usr/local/lib/python3.11/site-packages (from requests->torchvision>=0.5.0->PyTouch) (2023.5.7)\n",
      "Requirement already satisfied: mpmath>=0.19 in /usr/local/lib/python3.11/site-packages (from sympy->torch>=1.4.0->PyTouch) (1.3.0)\n",
      "Requirement already satisfied: attrs>=17.3.0 in /usr/local/lib/python3.11/site-packages (from aiohttp!=4.0.0a0,!=4.0.0a1->fsspec[http]>2021.06.0->pytorch-lightning->PyTouch) (23.1.0)\n",
      "Requirement already satisfied: multidict<7.0,>=4.5 in /usr/local/lib/python3.11/site-packages (from aiohttp!=4.0.0a0,!=4.0.0a1->fsspec[http]>2021.06.0->pytorch-lightning->PyTouch) (6.0.4)\n",
      "Requirement already satisfied: async-timeout<5.0,>=4.0.0a3 in /usr/local/lib/python3.11/site-packages (from aiohttp!=4.0.0a0,!=4.0.0a1->fsspec[http]>2021.06.0->pytorch-lightning->PyTouch) (4.0.2)\n",
      "Requirement already satisfied: yarl<2.0,>=1.0 in /usr/local/lib/python3.11/site-packages (from aiohttp!=4.0.0a0,!=4.0.0a1->fsspec[http]>2021.06.0->pytorch-lightning->PyTouch) (1.9.2)\n",
      "Requirement already satisfied: frozenlist>=1.1.1 in /usr/local/lib/python3.11/site-packages (from aiohttp!=4.0.0a0,!=4.0.0a1->fsspec[http]>2021.06.0->pytorch-lightning->PyTouch) (1.4.0)\n",
      "Requirement already satisfied: aiosignal>=1.1.2 in /usr/local/lib/python3.11/site-packages (from aiohttp!=4.0.0a0,!=4.0.0a1->fsspec[http]>2021.06.0->pytorch-lightning->PyTouch) (1.3.1)\n",
      "\n",
      "\u001b[1m[\u001b[0m\u001b[34;49mnotice\u001b[0m\u001b[1;39;49m]\u001b[0m\u001b[39;49m A new release of pip is available: \u001b[0m\u001b[31;49m23.0.1\u001b[0m\u001b[39;49m -> \u001b[0m\u001b[32;49m23.2.1\u001b[0m\n",
      "\u001b[1m[\u001b[0m\u001b[34;49mnotice\u001b[0m\u001b[1;39;49m]\u001b[0m\u001b[39;49m To update, run: \u001b[0m\u001b[32;49mpython3.11 -m pip install --upgrade pip\u001b[0m\n"
     ]
    }
   ],
   "source": [
    "#安装依赖\n",
    "!pip3 install -U PyTouch"
   ]
  },
  {
   "cell_type": "code",
   "execution_count": 4,
   "id": "599eba6e-300e-4aa4-923d-1a0be6b99c27",
   "metadata": {
    "scrolled": true
   },
   "outputs": [
    {
     "name": "stdout",
     "output_type": "stream",
     "text": [
      "tensor([[0, 2, 0, 5]])\n",
      "tensor([[[ 0.5329, -0.7547, -0.5999,  ...,  1.3890, -0.8328,  1.0597],\n",
      "         [-0.4141, -0.8679, -0.5504,  ...,  0.7097, -0.6024,  0.2964],\n",
      "         [ 0.5329, -0.7547, -0.5999,  ...,  1.3890, -0.8328,  1.0597],\n",
      "         [-0.9329,  1.7162,  0.1181,  ..., -0.5675, -0.0467, -0.5132]]],\n",
      "       grad_fn=<EmbeddingBackward0>)\n"
     ]
    }
   ],
   "source": [
    "import torch\n",
    "import torch.nn as nn\n",
    "import torch.nn.functional as F\n",
    "from torch.autograd import Variable\n",
    "import math\n",
    "import matplotlib.pyplot as plt\n",
    "import numpy as np\n",
    "import copy\n",
    "\n",
    "model_dimension = 1536 #表示潜入模型的维度，像open ai的embedding-002是1536维\n",
    "vocab_size = 1000 #表示词汇表的大小，一般是表示这个可能出现的词的多少\n",
    "\n",
    "#构建embedding 对象\n",
    "#Embedding(num_embeddings, embedding_dim, padding_idx=None, max_norm=None, norm_type=2.0, scale_grad_by_freq=False, sparse=False, _weight=None)\n",
    "#num_embeddings 表示符号数据的数量，比如您正在处理文本的潜入层，此时该参数表示词汇表的大小\n",
    "#embedding-dim 表示潜入的维度，比如open-ai 的embedding-002，该参数的值是1536\n",
    "embedding = nn.Embedding(vocab_size, model_dimension)\n",
    "\n",
    "#构建需要处理的数据，一般是以NxN维的方式提供，即一个[n][n]的数组\n",
    "# PyTorch 张量，是PyTorch的核心数据结构之一，他类似于多维数组或矩阵，非常适用于处理如图像、文本、序列等\n",
    "# 优势如下：\n",
    "# 数值计算：PyTorch张量是为数值计算而优化的，可以执行各种数学运算，如加法、乘法、矩阵乘法、梯度计算等。这使得PyTorch成为深度学习任务的理想选择。\n",
    "# 自动求导：PyTorch的张量具有自动求导功能，也就是说，您可以在张量上执行操作，并且PyTorch会自动跟踪这些操作以计算梯度。这对于训练神经网络等需要反向传播的任务非常有用。\n",
    "# GPU加速：PyTorch支持在GPU上执行张量计算，这可以显著提高深度学习模型的训练速度。您可以轻松地将张量从CPU转移到GPU上进行计算。\n",
    "# 灵活性：PyTorch张量具有丰富的方法和函数，用于操作、索引、切片、连接、重塑和变换张量数据。这使得在深度学习任务中处理各种数据变得非常灵活。\n",
    "# 深度学习框架集成：PyTorch张量是PyTorch深度学习框架的核心组件之一，可以与其他PyTorch模块（如神经网络层、优化器等）无缝集成。\n",
    "# 丰富的功能：PyTorch张量支持各种功能，如广播（broadcasting）、张量拼接（tensor concatenation）、索引选择（indexing and selection）、元素级运算（element-wise operations）等。\n",
    "\n",
    "#LongTensor 在 PyTorch 中主要用于存储整数值，通常用于表示分类标签、索引序列和符号数据的整数表示。这使得它在处理分类、自然语言处理和序列数据等任务时非常有用。\n",
    "input = torch.LongTensor([[0, 2, 0, 5]])\n",
    "print(input)\n",
    "print(embedding(input))"
   ]
  },
  {
   "cell_type": "code",
   "execution_count": null,
   "id": "84278b9d-9619-41ac-b01b-fd9d4a6da265",
   "metadata": {},
   "outputs": [],
   "source": []
  }
 ],
 "metadata": {
  "kernelspec": {
   "display_name": "Python 3 (ipykernel)",
   "language": "python",
   "name": "python3"
  },
  "language_info": {
   "codemirror_mode": {
    "name": "ipython",
    "version": 3
   },
   "file_extension": ".py",
   "mimetype": "text/x-python",
   "name": "python",
   "nbconvert_exporter": "python",
   "pygments_lexer": "ipython3",
   "version": "3.11.4"
  }
 },
 "nbformat": 4,
 "nbformat_minor": 5
}
